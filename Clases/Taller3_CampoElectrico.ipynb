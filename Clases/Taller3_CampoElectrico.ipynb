{
  "nbformat": 4,
  "nbformat_minor": 0,
  "metadata": {
    "colab": {
      "provenance": [],
      "authorship_tag": "ABX9TyNGmQgDvSHYjkWwyw3eIfgb",
      "include_colab_link": true
    },
    "kernelspec": {
      "name": "python3",
      "display_name": "Python 3"
    },
    "language_info": {
      "name": "python"
    }
  },
  "cells": [
    {
      "cell_type": "markdown",
      "metadata": {
        "id": "view-in-github",
        "colab_type": "text"
      },
      "source": [
        "<a href=\"https://colab.research.google.com/github/Psychohistorian11/Fisica_II/blob/master/Clases/Taller3_CampoElectrico.ipynb\" target=\"_parent\"><img src=\"https://colab.research.google.com/assets/colab-badge.svg\" alt=\"Open In Colab\"/></a>"
      ]
    },
    {
      "cell_type": "markdown",
      "source": [
        "# Taller 3\n",
        "\n",
        "Calcula  la  fuerza  que la   distribucion de  carga  continua ,  ejerce  sobre  la  carga $q$\n",
        "\n",
        "<img src=\"https://drive.google.com/uc?id=1GowaEF2M8IzP237R8U0efCeA4Pc9wgXN\" alt=\"Mi imagen\" width=\"400\" height=\"300\">\n",
        "\n",
        "(a) Realice  el  problema  empleando  integración directa\n",
        "\n",
        "(b) haga el  calculo  númerico  empleando  la suma  de  varios  diferenciales  de  carga  sobre la distribución"
      ],
      "metadata": {
        "id": "HWUQhzilVG7l"
      }
    },
    {
      "cell_type": "markdown",
      "source": [
        "### punto a\n",
        "\n",
        "\n",
        "En primera instancia gracias a la ley de Coulomb para el campo electrico se puede determinar que\n",
        "\n",
        "$$\\vec{E}= K \\frac{Q}{r^2}\\hat{r} \\tag1$$\n",
        "\n",
        "Partimos de la Ley de Coulomb para resolver el ejercicio\n",
        "\n",
        "Ahora seleccionamos una parte infinitamente pequeña de la linea que llamaremos $dx$ y a cada respectivo diferencial de longitud le corresponde una carga $dq$ y este hace referencia a un pedaso de carga muy pequeño."
      ],
      "metadata": {
        "id": "eTNsbfdYX2ow"
      }
    },
    {
      "cell_type": "markdown",
      "source": [
        "<img src=\"https://drive.google.com/uc?id=1Ogx_ZLksmq95bVUjNjX81im7ULfkeDXb\" alt=\"Mi imagen\" width=\"400\" height=\"300\">\n"
      ],
      "metadata": {
        "id": "LgIeWbLQeOrR"
      }
    },
    {
      "cell_type": "markdown",
      "source": [
        "Aplicamos la ley de Coulomb a dichos diferenciales\n",
        "\n",
        "$$\\vec{E}_{dq}= \\frac{1}{4\\pi ϵ_{0}} \\frac{dq}{|\\vec{r}|^2}\\hat{r} \\tag1$$\n",
        "\n",
        "Requerimos de la distancia $\\vec{r}$ y el vector de dirección $\\hat{r}$\n",
        "\n",
        "$$\\vec{r} = x \\hat{i}$$\n",
        "\n",
        "$$\\hat{i} = Vector Horizontal$$\n",
        "\n",
        "$$|\\vec{r}|= \\sqrt{x^2} = x $$\n",
        "\n",
        "Vector unitario en dirección de  $\\vec{r}$ es:\n",
        "\n",
        "$$\\hat{r} = \\frac{\\vec{r}}{|\\vec{r}|} = \\frac{x}{x} \\hat{i} = \\hat{i}$$\n",
        "\n",
        "Remplazamos en la primera ecuación:\n",
        "\n",
        "$$\\vec{E}_{dq} = \\frac{1}{4\\pi ϵ_{0}}  \\frac{dq}{x^2}\\hat{i} \\tag2$$\n",
        "\n",
        "\n",
        "Aplicamos principio de Superposición para poder realizar realizar una sumatoria de todos los campos y nuestro diferencial será $dx$ porque es aquello que varia.\n",
        "\n",
        "$$\\vec{E} = \\frac{1}{4\\pi ϵ_0} \\int{}{}\\frac{dq}{x^2}\\hat{i}$$\n",
        "\n",
        "necesitamos la integral en función de $x$, utilizamos la definición de densidad de carga linel\n",
        "\n",
        "$$λ = \\frac{Q}{a} = \\frac{dq}{dx}$$\n",
        "\n",
        "$$dq = λdx$$\n",
        "\n",
        "Remplazamos\n",
        "\n",
        "$$\\vec{E} = \\frac{λ}{4\\pi ϵ_0}\\hat{i} \\int{}{}\\frac{dx}{x^2}$$\n",
        "\n"
      ],
      "metadata": {
        "id": "4hSUHCRieVZB"
      }
    },
    {
      "cell_type": "markdown",
      "source": [
        "Limites de Integración:\n",
        "\n",
        "<img src=\"https://drive.google.com/uc?id=1QO2IPTSP7LaGk8f5LpqdgtAb8s_hatEQ\" alt=\"Mi imagen\" width=\"400\" height=\"300\">\n"
      ],
      "metadata": {
        "id": "h_FhuVASlHHw"
      }
    },
    {
      "cell_type": "markdown",
      "source": [
        "Modificamos el sistema manteniendo las mismas proporciones para evitar indeterminaciones en el cálculo\n",
        "\n",
        "la distancia $x$ minima, sería una particula situada en el punto inicial de la varilla = $r$, y el punto final seria $r +a$\n",
        "\n",
        "$$\\vec{E} = \\frac{λ}{4\\pi ϵ_0}\\hat{i} \\int_{r}^{r+a} \\frac{1}{x^2}dx \\tag{3}$$\n",
        "\n",
        "Solución de la integral:\n",
        "\n",
        "$$=\\frac{a}{r(r+a)}$$\n",
        "\n",
        "Campo Electrico:\n",
        "\n",
        "$$\\vec{E} = \\frac{1}{4\\pi ϵ_0} \\frac{λ a}{r(r+a)} \\hat{i}$$\n",
        "\n",
        "$$λ = \\frac{Q}{a} = \\frac{dq}{dx}$$\n",
        "\n",
        "Remplazamos y Cancelamos\n",
        "\n",
        "$$\\vec{E} = \\frac{1}{4\\pi\\epsilon_0} \\frac{Q}{r(r+a)} \\hat{i}$$\n",
        "\n",
        "### Punto b\n",
        "\n",
        "Para realizar la sumatoria de las distribuciones de carga sobre la distribución podemos simplemente resolver la Integral de la ecuación $(3)$\n",
        "\n",
        "$$\\vec{E} = \\frac{λ}{4\\pi ϵ_0}\\hat{i} \\int_{r}^{r+a} \\frac{1}{x^2}dx \\tag{3}$$\n",
        "\n",
        "donde:\n",
        "\n",
        "$$λ = \\frac{Q}{a}$$\n",
        "\n",
        "Remplazamos\n",
        "\n",
        "$$\\vec{E} = \\frac{Q}{a}\\frac{1}{4\\pi ϵ_0} \\int_{r}^{r+a} \\frac{1}{x^2}dx$$\n",
        "\n",
        "|Parametro | Valor|\n",
        "|----------|------|\n",
        "| $\\frac{1}{4\\pi\\epsilon_{0}}$|1.0\n",
        "| a        | 20 cm|\n",
        "| r        | 2 cm |\n",
        "| Q        | 1    |\n",
        "\n",
        "Con los valores remplazados nos quedaria el campo electrico como:\n",
        "\n",
        "$$\\vec{E} = \\frac{1}{0.2} \\int_{0.02}^{0.02+0.2} \\frac{1}{x^2}dx$$"
      ],
      "metadata": {
        "id": "gaFxvygJmObY"
      }
    },
    {
      "cell_type": "code",
      "source": [
        "#librerias para integrar\n",
        "from scipy.integrate import quad as Integrar\n",
        "\n",
        "def calculate_the_electric_field(k,a,r,Q):\n",
        "\n",
        "    # Definir la función a integrar\n",
        "    def integral(x):\n",
        "        return 1 / x**2\n",
        "\n",
        "    # Calcular la integral definida\n",
        "    resultadoIntegral, _ = Integrar(integral, r, r + a)\n",
        "\n",
        "    # Calcular el campo eléctrico\n",
        "    E = (Q / a) * k * resultadoIntegral\n",
        "\n",
        "    return E\n",
        "\n",
        "\n",
        "E = calculate_the_electric_field(1,0.2,0.02,1)\n",
        "# Imprimir el resultado\n",
        "print(\"Aproximación computacional del campo eléctrico:\", E)\n"
      ],
      "metadata": {
        "colab": {
          "base_uri": "https://localhost:8080/"
        },
        "id": "ql01qwfNxrjF",
        "outputId": "bbd25672-d23b-4109-a889-ba994150c908"
      },
      "execution_count": 20,
      "outputs": [
        {
          "output_type": "stream",
          "name": "stdout",
          "text": [
            "Aproximación computacional del campo eléctrico: 227.2727272727272\n"
          ]
        }
      ]
    }
  ]
}