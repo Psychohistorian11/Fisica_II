{
  "nbformat": 4,
  "nbformat_minor": 0,
  "metadata": {
    "colab": {
      "provenance": [],
      "authorship_tag": "ABX9TyN48UpWP0yiZaWmLwEbb8wZ",
      "include_colab_link": true
    },
    "kernelspec": {
      "name": "python3",
      "display_name": "Python 3"
    },
    "language_info": {
      "name": "python"
    }
  },
  "cells": [
    {
      "cell_type": "markdown",
      "metadata": {
        "id": "view-in-github",
        "colab_type": "text"
      },
      "source": [
        "<a href=\"https://colab.research.google.com/github/Psychohistorian11/Fisica_II/blob/master/Clases/PracticaExamen2.ipynb\" target=\"_parent\"><img src=\"https://colab.research.google.com/assets/colab-badge.svg\" alt=\"Open In Colab\"/></a>"
      ]
    },
    {
      "cell_type": "markdown",
      "source": [
        "# Campo Electrico de un anillo uniformemente cargado"
      ],
      "metadata": {
        "id": "cB5ntdkSdIhU"
      }
    },
    {
      "cell_type": "markdown",
      "source": [
        "Calcule el campo eléctrico de un anillo uniformemente cargado con densidad lineal de carga $λ$ en un punto P, que se encuentra a una distancia z sobre el centro del anillo, como muestra la figura"
      ],
      "metadata": {
        "id": "2QMSj3YhegLT"
      }
    },
    {
      "cell_type": "markdown",
      "source": [
        "![image.png](data:image/png;base64,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)"
      ],
      "metadata": {
        "id": "zv3MmTR6e2U7"
      }
    },
    {
      "cell_type": "markdown",
      "source": [
        "Partimos de tomar un diferencia de carga muy pequeño sobre el anillo $dq$ sobre la distribución $dx$\n",
        "\n",
        "$$λ = \\frac{dq}{dx}$$\n",
        "\n",
        "$$dq = λ dx$$\n",
        "\n",
        "En términos de la geometría del anillo, podemos escribir el diferencial de carga como:\n",
        "\n",
        "$$dq = λRdθ$$\n",
        "\n",
        "Elcampo electrico se expresaria de la siguiente forma\n",
        "\n",
        "$$\\vec{E_{dq}} = \\frac{1}{4πϵ_{0}}\\frac{dq}{|\\vec{r}|^2} \\hat{r}$$\n",
        "\n",
        "Definimos ahora todo aquello que necesitamos para encontrar el campo electrico\n",
        "\n",
        "### Distancia desde el diferencial hasta el punto\n",
        "\n",
        "la distancia entre el diferencial y el punto P seria el siguiente\n",
        "\n",
        "$$|\\vec{r}| = \\sqrt{R^2 + z ^2}$$\n",
        "\n",
        "ahora nos interesa saber la dirección del vector y para ello debemos obtener las posiciones de los puntos en el espacio pero primero ajustamos el sistema un poco para practicidades del ejercicio.\n",
        "\n",
        "simplemente como R no varia la ajustamos de forma paralela al eje y y perpendicular al eje x para que así su componente en x sea 0\n"
      ],
      "metadata": {
        "id": "btTDLi_vhDbS"
      }
    },
    {
      "cell_type": "markdown",
      "source": [
        "![image.png](data:image/png;base64,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)"
      ],
      "metadata": {
        "id": "TKinL7lso2l0"
      }
    },
    {
      "cell_type": "markdown",
      "source": [
        "$$P(0,0,z)$$\n",
        "$$dq(0,R,z)$$\n",
        "\n",
        "Coordenadas:\n",
        "\n",
        "$$\\vec{r} = (0 - 0)\\hat{i} + (0 - R)\\hat{j} + (z - 0)\\hat{k}$$\n",
        "\n",
        "$$\\vec{r} = -R\\hat{j} + z\\hat{k}$$\n",
        "\n",
        "Recordemos:\n",
        "\n",
        "$$\\hat{r} = \\frac{\\vec{r}}{|\\vec{r}|}$$\n",
        "\n",
        "Entonces quedaria:\n",
        "\n",
        "$$\\hat{r} = -\\frac{R}{\\sqrt{R^2+z^2}}\\hat{j} + \\frac{z}{\\sqrt{R^2+z^2}}\\hat{k} $$\n",
        "\n",
        "Distribuyendo el diferencial de carga sobre la dirección por el vector unitario y aplicando pincipio de superposición el campo electrico nos queda:\n",
        "\n",
        "$$\\vec E = K \\int_{0}^{2\\pi} \\frac{R}{\\sqrt{R^2+z^2}}  \\lambda Rd\\theta \\hat{j} + K \\int_{0}^{2\\pi} \\frac{z}{\\sqrt{R^2+z^2}}  \\lambda Rd\\theta \\hat{k}$$\n",
        "\n",
        "Solución de la integral:\n",
        "\n",
        "$$\\vec{E} = K \\frac{2\\pi zR\\lambda}{(R^2+z^2)^{3/2}} \\hat{k}$$"
      ],
      "metadata": {
        "id": "2QKat4oCpr7d"
      }
    },
    {
      "cell_type": "code",
      "source": [
        "import math\n",
        "\n",
        "def electricField(K,R,z,l,nts):\n",
        "    sum = 0\n",
        "    q = 2*l*math.pi*R\n",
        "    dl = ((2*math.pi*R)/nts)\n",
        "    for i in range(nts):\n",
        "        L = i*dl\n",
        "        sum += K*z*l*L/((R**2 + z**2)**(3/2))\n",
        "\n",
        "    E = K*q*z/((R**2+z**2)**(3/2))\n",
        "    return sum, E\n",
        "\n",
        "sum, E = electricField(1,10,3,1,1000)\n",
        "\n",
        "print(f\"Suma acumulada de las contribuciones al campo eléctrico debido a todos los segmentos del anillo de carga: {sum}\")\n",
        "print(f\"Campo Electrico: {E}\")"
      ],
      "metadata": {
        "colab": {
          "base_uri": "https://localhost:8080/"
        },
        "id": "5SjTewWJtyFU",
        "outputId": "6d1214a8-197e-45c2-d3f8-265dfc0c7e45"
      },
      "execution_count": null,
      "outputs": [
        {
          "output_type": "stream",
          "name": "stdout",
          "text": [
            "Suma acumulada de las contribuciones al campo eléctrico debido a todos los segmentos del anillo de carga: 82.7364473682084\n",
            "Campo Electrico: 0.16563853326968644\n"
          ]
        }
      ]
    }
  ]
}