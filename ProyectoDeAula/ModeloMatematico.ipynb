{
  "nbformat": 4,
  "nbformat_minor": 0,
  "metadata": {
    "colab": {
      "provenance": [],
      "authorship_tag": "ABX9TyPN2nLDYqaxxx+/EKzvNc2q",
      "include_colab_link": true
    },
    "kernelspec": {
      "name": "python3",
      "display_name": "Python 3"
    },
    "language_info": {
      "name": "python"
    }
  },
  "cells": [
    {
      "cell_type": "markdown",
      "metadata": {
        "id": "view-in-github",
        "colab_type": "text"
      },
      "source": [
        "<a href=\"https://colab.research.google.com/github/Psychohistorian11/Fisica_II/blob/master/ProyectoDeAula/ModeloMatematico.ipynb\" target=\"_parent\"><img src=\"https://colab.research.google.com/assets/colab-badge.svg\" alt=\"Open In Colab\"/></a>"
      ]
    },
    {
      "cell_type": "markdown",
      "source": [
        "# Modelo Matematico\n",
        "## Intensidad\n",
        "\n",
        "\n",
        "Hagamos un  analisis dimensional  de  la intensidad\n",
        "\n",
        "\n",
        "$$ [I]= \\frac{[F][d]}{[t][d]^2} $$\n",
        "\n",
        "desde  el  analisis  dimensional  se puede  escribir la intensidad   como  \n",
        "\n",
        "\n",
        "$$I = p(x,t) \\frac{\\partial x'(x,t)}{\\partial t}$$\n",
        "\n",
        "$$I = BAk\\sin(kx\\pm \\omega t)\\frac{\\partial x'(x,t)}{\\partial t}$$\n",
        "\n",
        "$$\\frac{\\partial x'(x,t)}{\\partial t}=\\mp A\\omega\\sin(kx \\pm \\omega t) $$\n",
        "\n",
        "---\n",
        "\n",
        "$$I = \\mp BA^2k\\omega \\sin^2{(kx \\pm \\omega t)}$$\n",
        "\n",
        "---\n",
        "\n",
        "\n",
        "Uno  puede  calcular  la  intensidad   temporal  media  (  es  decir   cuanta energia  por  unidad   unidad de  area  se  entrega en  un periodo )\n",
        "\n",
        "Demostrando  que  esta  intensidad  media  se  puede  escribir  como\n",
        "\n",
        "$$I_{med} =\\int_{0}^{T} BA^2k\\omega \\sin^2{(kx \\pm \\omega t)} dt$$\n",
        "\n",
        "$$I_{med} = \\frac{1}{2}BA^2k\\omega$$\n",
        "\n",
        "En  terminos  de  las   fluctuaciones maximas de  presión de  la  onda  podemos  escribir  la   Intensidad media como\n",
        "\n",
        "$$I_{med}= \\frac{1}{2}p_{max}A\\omega$$\n",
        "\n",
        " Podemos   demostrar  que la  intensidad del  sonido  cumple la  siguiente  relación inversa   con las  distancias  al  cuadrado  \n",
        "\n",
        " Para  esto  suponemos     que tenemos  una  fuente que genera una onda con potencia P\n",
        "\n",
        " ---\n",
        "\n",
        " $$I=\\frac{P}{4\\pi r^{2}} \\tag{1}$$\n",
        "\n",
        " ---"
      ],
      "metadata": {
        "id": "rl-CEFynwgl9"
      }
    },
    {
      "cell_type": "markdown",
      "source": [
        "## Ley Inversa del cuadrado de la distancia\n",
        "\n",
        "La intensidad de un movimiento ondulatorio varía con la inversa del cuadrado de la distancia a una fuente puntual. La fuente de luz emite energía a razón de P watios (julios/segundo). Si la luz se propaga en todas las direcciones de forma isótropa, a una distancia r de la fuente, el flujo de energía atraviesa una superficie esférica de radio r.\n",
        "\n",
        "Ecuación $(1)$\n",
        "\n",
        "La intensidad se mide en W/m2. La intensidad de la luz disminuye en razón inversamente proporcional al cuadrado de la distancia x desde la fuente al detector.\n",
        "\n"
      ],
      "metadata": {
        "id": "wp1KErrFywKI"
      }
    },
    {
      "cell_type": "markdown",
      "source": [
        "![image.png](data:image/png;base64,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)"
      ],
      "metadata": {
        "id": "8q1Gx9Ajzrag"
      }
    },
    {
      "cell_type": "markdown",
      "source": [
        "Como hemos visto la intensidad es inversamente proporcional al cuadrado de la distancia r a la fuente puntual, que emite en todas las direcciones de forma isótropa. Un led de potencia P está situada a una altura h, dispara a un lugar en la mesa, la intensidad en un punto x, es\n",
        "\n",
        "$$I = \\frac{P}{4π(x^2 + h^2)}$$"
      ],
      "metadata": {
        "id": "GGbZq2HO1qPS"
      }
    },
    {
      "cell_type": "markdown",
      "source": [
        "![image.png](data:image/png;base64,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)"
      ],
      "metadata": {
        "id": "QbaOcER22Hg4"
      }
    },
    {
      "cell_type": "markdown",
      "source": [
        "La energía por unidad de tiempo (flujo) sobre un área dS cuya dirección es el vector unitario $n$ es el producto $I·dS·cos(90-θ)=I·dS·sinθ.$ La intensidad de la luz medida en un punto x del la calle es\n",
        "\n",
        "$$I = \\frac{P}{4π(x^2 + h^2)}\\sinθ = \\frac{P}{4π}\\frac{h}{(x^2 + h^2)^\\frac{3}{2}}$$\n",
        "\n",
        "---\n",
        "\n",
        "$$I = \\frac{P}{4π}\\frac{h}{(x^2 + h^2)^\\frac{3}{2}}\\tag{2}$$\n",
        "\n",
        "---\n"
      ],
      "metadata": {
        "id": "-OpzeiLo2Jbd"
      }
    },
    {
      "cell_type": "markdown",
      "source": [
        "Definición de la ley del cuadrado de la distancia e imagen tomado de: Curso Interactivo de Física.\n",
        "http://www.sc.ehu.es/sbweb/fisica3/ondas/tipos_ondas/energia.html"
      ],
      "metadata": {
        "id": "AZJHIVkTz0TG"
      }
    },
    {
      "cell_type": "markdown",
      "source": [
        "## Potencia\n",
        "\n",
        "Recapitulando definimos que la intensidad de una onda esta dada por la cantidad de potencia sobre un area determinada\n",
        "\n",
        "$$I = \\frac{P}{A}$$\n",
        "\n",
        "### Ley de la potencia de una Onda\n",
        "\n",
        "Establece que la potencia de una onda electromagnética decrece a medida que aumenta la distancia al cuadrado. Esta ley se deriva de las ecuaciones de Maxwell, que describen las propiedades del campo electromagnético.\n",
        "\n",
        "En particular, la ley de la potencia de la onda se puede derivar de la siguiente ecuación:\n",
        "\n",
        "$$P =  I A$$\n",
        "\n",
        "donde:\n",
        "\n",
        " * P: La potencia de la onda.\n",
        " * I: La intensidad de la onda.\n",
        " * A: La superficie sobre la que se distribuye la potencia.\n",
        "\n",
        "\n",
        "La intensidad de una onda es la cantidad de potencia que pasa a través de un área unidad perpendicular a la dirección de propagación de la onda. La superficie sobre la que se distribuye la potencia es la superficie de una esfera imaginaria que rodea la fuente de la onda.\n",
        "\n",
        "La distancia entre el emisor y el receptor es el radio de la esfera imaginaria. Por lo tanto, la potencia recibida por el receptor es igual a la potencia transmitida por el emisor, dividida por el área de la esfera imaginaria. El área de la esfera imaginaria es igual a 4π * d^2, donde d es la distancia entre el emisor y el receptor.\n",
        "\n",
        "Por lo tanto, la ecuación para la potencia recibida se puede escribir como:\n",
        "\n",
        "$$P_{r} = P_{t} / (4π * d^2)$$\n",
        "\n",
        "Ahora, La potencia recibida del receptor por parte del led que se ubica en el emisor comprende la siguiente potencia.\n",
        "\n",
        "$$P_{t} = P_{x}G_{t}G_{r}$$\n",
        "\n",
        "Definición de variables:\n",
        "\n",
        "$P_{x}$ = Potencia especifica del Transmisor\n",
        "\n",
        "$G_{t}$ = Ganancia del Transmisor\n",
        "\n",
        "$G_{r}$ = Ganancia del receptor\n",
        "\n",
        "Por ende la potencia del receptor quedaria de la siguiente forma\n",
        "\n",
        "---\n",
        "\n",
        "$$P_{r} =\\frac{P_{x}  G_{t}  G_{r} }{ 4πd^2 } \\tag{3}$$\n",
        "\n",
        "---\n",
        "\n",
        "### Potencia del transmisor\n",
        "\n",
        "Tanto la potencia del transmisor como las ganacias se pueden obtener en las especificaciones del producto, sino es así se puede calcular de la siguiente forma.\n",
        "\n",
        "La potencia de transmisión que el LED emite en el aire  esta dada por\n",
        "\n",
        "---\n",
        "\n",
        "$$P_{x} = \\frac{ V_{f} I_{f} }{R}\\tag{4}$$\n",
        "\n",
        "---\n",
        "\n",
        "Definición de variables:\n",
        "\n",
        "$V_{f}$ = Tensión de alimentación del LED [V] \"Especificaciones del LED\"\n",
        "\n",
        "$I_{f}$ = Corriente de funcionamiento del LED [mA] \"Especificaciones del LED\"\n",
        "\n",
        "$R$ = Resistencia del LED [Ohm] R = $\\frac{V_{f}}{I_{f}}$\n",
        "\n",
        "### Ganancias\n",
        "\n",
        "Ganancia del Transmisor\n",
        "\n",
        "Es la capacidad de LED para concentrar la potencia del transmisión en una dirección particular\n",
        "\n",
        "$$G_{t} = 10Log_{10}(\\frac{4 π d^2}{P_{x}})$$\n",
        "\n",
        "Ganancia del Receptor\n",
        "\n",
        "Es la capacidad del receptor para recolectar la potencia de transmisión. La ganancia del receptor se puede calcular de la siguiente forma\n",
        "\n",
        "$$G_{r} = 10Log_{10}(\\frac{P_{t}}{P_{r}})$$\n",
        "\n",
        "Según lo analizado vemos que la ganancia depende de la potencia del receptor pero esta variable es aquella inicial que queremos encontrar entonces se nos genera un camino por el cual es poco practico seguir y En teoría, no se puede calcular la ganancia del receptor sin la potencia del receptor. Sin embargo, en la práctica, es posible estimar la ganancia del receptor utilizando una aproximación.\n",
        "\n",
        "La siguiente aproximación se puede utilizar para estimar la ganancia del receptor:\n",
        "\n",
        "$$Gr ≈ Gt - Lp$$\n",
        "\n",
        "Donde\n",
        "\n",
        "$G_{t}$ es la ganancia del transmisor [dB]\n",
        "\n",
        "$Lp$ es la pérdida por propagación [dB] $Lp = 20Log_{10}(d)$\n",
        "\n"
      ],
      "metadata": {
        "id": "FRc-CgQNBGxm"
      }
    }
  ]
}